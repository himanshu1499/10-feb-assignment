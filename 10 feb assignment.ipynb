{
 "cells": [
  {
   "cell_type": "markdown",
   "id": "000088de-1304-4f2c-9fb5-63f74aef0262",
   "metadata": {},
   "source": [
    "# which function is used to open a file? what are the different modes of opening a file? explain each mode of file opening."
   ]
  },
  {
   "cell_type": "code",
   "execution_count": null,
   "id": "a0b36c8b-7b13-43d3-9efb-b270011d0d44",
   "metadata": {},
   "outputs": [],
   "source": [
    "open() function used to open a file."
   ]
  },
  {
   "cell_type": "code",
   "execution_count": null,
   "id": "d5e39a4d-8874-441a-90e3-2ee36c028615",
   "metadata": {},
   "outputs": [],
   "source": [
    " modes of opening files\n",
    "    \n",
    "r for reading – The file pointer is placed at the beginning of the file. This is the default mode.\n",
    "r+ Opens a file for both reading and writing. The file pointer will be at the beginning of the file.\n",
    "w Opens a file for writing only. Overwrites the file if the file exists. If the file does not exist, creates a new file for writing.\n",
    "w+ Opens a file for both writing and reading. Overwrites the existing file if the file exists. If the file does not exist, it creates a new file for reading and writing.\n",
    "rb Opens a file for reading only in binary format. The file pointer is placed at the beginning of the file.\n",
    "rb+ Opens a file for both reading and writing in binary format.\n",
    "wb+ Opens a file for both writing and reading in binary format. Overwrites the existing file if the file exists. If the file does not exist, it creates a new file for reading and writing.\n",
    "a Opens a file for appending. The file pointer is at the end of the file if the file exists. That is, the file is in the append mode. If the file does not exist, it creates a new file for writing.\n",
    "ab Opens a file for appending in binary format. The file pointer is at the end of the file if the file exists. That is, the file is in the append mode. If the file does not exist, it creates a new file for writing.\n",
    "a+ Opens a file for both appending and reading. The file pointer is at the end of the file if the file exists. The file opens in the append mode. If the file does not exist, it creates a new file for reading and writing.\n",
    "ab+ Opens a file for both appending and reading in binary format. The file pointer is at the end of the file if the file exists. The file opens in the append mode. If the file does not exist, it creates a new file for reading and writing.\n",
    "x open for exclusive creation, failing if the file already exists "
   ]
  },
  {
   "cell_type": "markdown",
   "id": "7e3fe1ce-af82-473c-bb16-1f3dccf77abb",
   "metadata": {},
   "source": [
    "#why close() function is used? why is it important to close a file?"
   ]
  },
  {
   "cell_type": "code",
   "execution_count": null,
   "id": "51a862b4-810c-4aea-b0f5-073bb78784a8",
   "metadata": {},
   "outputs": [],
   "source": [
    "The close () function closes the connection between the program and an open file identified by a handle"
   ]
  },
  {
   "cell_type": "code",
   "execution_count": null,
   "id": "3d60639b-9b63-4e18-a119-fd1c60b08826",
   "metadata": {},
   "outputs": [],
   "source": [
    "Because files are limited resources managed by the operating system, making sure files are closed after use will protect against hard-to-debug issues like running out of file handles or experiencing corrupted data. \n",
    "The best defense is always to open files with a context manager."
   ]
  },
  {
   "cell_type": "markdown",
   "id": "d04dc2c0-2b62-4546-ad27-663b15c11c4f",
   "metadata": {},
   "source": [
    "# explain the following with python code: read(), readline() and readlines()."
   ]
  },
  {
   "cell_type": "code",
   "execution_count": null,
   "id": "75349b21-18af-40a7-86b4-a7751229df13",
   "metadata": {},
   "outputs": [],
   "source": [
    "read() - Returns the read bytes in form of a string.\n",
    "Reads n bytes, if no n specified, reads the entire file."
   ]
  },
  {
   "cell_type": "code",
   "execution_count": null,
   "id": "cda28e80-e01a-4ce0-9415-7bf2aec62f15",
   "metadata": {},
   "outputs": [],
   "source": [
    "File_object.read([n])"
   ]
  },
  {
   "cell_type": "code",
   "execution_count": null,
   "id": "80a83f2c-92e2-49a6-99a2-48eb147f0df1",
   "metadata": {},
   "outputs": [],
   "source": [
    "readline() - Reads a line of the file and returns in form of a string.For specified n, reads at most n bytes. \n",
    "However, does not reads more than one line, even if n exceeds the length of the line."
   ]
  },
  {
   "cell_type": "code",
   "execution_count": null,
   "id": "9e09cc30-39e5-4044-bd46-c328e1e82a4b",
   "metadata": {},
   "outputs": [],
   "source": [
    "File_object.readline([n])"
   ]
  },
  {
   "cell_type": "code",
   "execution_count": null,
   "id": "61194927-aed2-42a0-ba28-421639fdff8f",
   "metadata": {},
   "outputs": [],
   "source": [
    "readlines() - Reads all the lines and return them as each line a string element in a list."
   ]
  },
  {
   "cell_type": "code",
   "execution_count": null,
   "id": "4c66b0be-3172-4ad6-8970-d0799cc319d2",
   "metadata": {},
   "outputs": [],
   "source": [
    "File_object.readlines()"
   ]
  },
  {
   "cell_type": "markdown",
   "id": "bb97f2d4-d1e8-46aa-a474-291110700e15",
   "metadata": {},
   "source": [
    "# explain why with statement is used with open().what is the advantage of using with statement and open() together?"
   ]
  },
  {
   "cell_type": "code",
   "execution_count": null,
   "id": "287a9653-6b6a-4fd6-bb1d-e0cd4f62cb2a",
   "metadata": {},
   "outputs": [],
   "source": [
    "When you call the open () function using the with statement, the file closes automatically after you’ve processed the file. The with statement is a replacement for commonly used try/finally error-handling statements.\n",
    "A common example of using the with statement is opening a file."
   ]
  },
  {
   "cell_type": "code",
   "execution_count": null,
   "id": "bdc435fc-395f-4c1d-9070-79d3c8ddff67",
   "metadata": {},
   "outputs": [],
   "source": [
    "1.fewer chances of bug due to coding error\n",
    "2.Excellent handling in case of exception\n",
    "3.Open multiple files in a single “with statement” "
   ]
  },
  {
   "cell_type": "markdown",
   "id": "d76456a3-f821-4f31-a348-f76743385bb4",
   "metadata": {},
   "source": [
    "# explain the write() and writeline() functions."
   ]
  },
  {
   "cell_type": "code",
   "execution_count": null,
   "id": "c265bc63-72e3-4939-90d3-473d2dc21c5d",
   "metadata": {},
   "outputs": [],
   "source": [
    "The write() method writes a specified text to the file.\n",
    "Where the specified text will be inserted depends on the file mode and stream position."
   ]
  },
  {
   "cell_type": "code",
   "execution_count": 1,
   "id": "c1a1ec75-4b68-4c01-a22c-4ef416227fb2",
   "metadata": {},
   "outputs": [
    {
     "name": "stdin",
     "output_type": "stream",
     "text": [
      "Enter the name of the car:  urus\n",
      "Enter the name of the car:  bmw\n",
      "Enter the name of the car:  audi\n"
     ]
    },
    {
     "name": "stdout",
     "output_type": "stream",
     "text": [
      "Data is written into the file.\n"
     ]
    }
   ],
   "source": [
    "file = open(\"car.txt\", \"w\")\n",
    "  \n",
    "for i in range(3):\n",
    "   name = input(\"Enter the name of the car: \")\n",
    "   file.write(name)\n",
    "   file.write(\"\\n\")\n",
    "     \n",
    "file.close()\n",
    "  \n",
    "print(\"Data is written into the file.\")"
   ]
  },
  {
   "cell_type": "code",
   "execution_count": null,
   "id": "4d900a42-dd0b-47ef-b213-781f82a78c1a",
   "metadata": {},
   "outputs": [],
   "source": [
    "writelines() writes a sequence of strings to the file. The sequence can be any iterable object producing strings, typically a list of strings.\n",
    "There is no return value. Syntax. Parameters. "
   ]
  },
  {
   "cell_type": "code",
   "execution_count": 4,
   "id": "04fae87e-7905-4056-9301-3efd798ebd8a",
   "metadata": {},
   "outputs": [
    {
     "name": "stdin",
     "output_type": "stream",
     "text": [
      "Enter the name of the employee:  sss\n",
      "Enter the name of the employee:  sss\n",
      "Enter the name of the employee:  sss\n"
     ]
    },
    {
     "name": "stdout",
     "output_type": "stream",
     "text": [
      "Data is written into the file.\n"
     ]
    }
   ],
   "source": [
    "file1 = open(\"Employees.txt\", \"w\")\n",
    "lst = []\n",
    "for i in range(3):\n",
    "    name = input(\"Enter the name of the employee: \")\n",
    "    lst.append(name + '\\n')\n",
    "      \n",
    "file1.writelines(lst)\n",
    "file1.close()\n",
    " "
   ]
  },
  {
   "cell_type": "code",
   "execution_count": null,
   "id": "5ee816c0-bd2d-404a-8bd9-e92a2839810e",
   "metadata": {},
   "outputs": [],
   "source": [
    "# write a code to crate a text file."
   ]
  },
  {
   "cell_type": "code",
   "execution_count": 5,
   "id": "09d81855-96dc-4389-894f-9340f5c19752",
   "metadata": {},
   "outputs": [],
   "source": [
    "f = open(\"test.txt\",'a')"
   ]
  },
  {
   "cell_type": "code",
   "execution_count": 6,
   "id": "836ccb13-1363-4a5b-83f7-6d905ad91942",
   "metadata": {},
   "outputs": [
    {
     "data": {
      "text/plain": [
       "33"
      ]
     },
     "execution_count": 6,
     "metadata": {},
     "output_type": "execute_result"
    }
   ],
   "source": [
    "f.write(\"i want to become a data scientist\")"
   ]
  },
  {
   "cell_type": "code",
   "execution_count": 7,
   "id": "930ad8c4-4ce6-4bbd-9d27-9f78028282ea",
   "metadata": {},
   "outputs": [],
   "source": [
    "f.close()"
   ]
  },
  {
   "cell_type": "code",
   "execution_count": null,
   "id": "5bf397d0-5360-409a-896b-7c2ab5ba1b2c",
   "metadata": {},
   "outputs": [],
   "source": []
  }
 ],
 "metadata": {
  "kernelspec": {
   "display_name": "Python 3 (ipykernel)",
   "language": "python",
   "name": "python3"
  },
  "language_info": {
   "codemirror_mode": {
    "name": "ipython",
    "version": 3
   },
   "file_extension": ".py",
   "mimetype": "text/x-python",
   "name": "python",
   "nbconvert_exporter": "python",
   "pygments_lexer": "ipython3",
   "version": "3.10.6"
  }
 },
 "nbformat": 4,
 "nbformat_minor": 5
}
